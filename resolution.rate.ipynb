{
 "cells": [
  {
   "cell_type": "code",
   "execution_count": null,
   "metadata": {
    "vscode": {
     "languageId": "plaintext"
    }
   },
   "outputs": [],
   "source": [
    "%pip install -r requirements.txt"
   ]
  },
  {
   "cell_type": "code",
   "execution_count": null,
   "metadata": {
    "vscode": {
     "languageId": "plaintext"
    }
   },
   "outputs": [],
   "source": [
    "import pandas as pd\n",
    "import seaborn as sns\n",
    "import matplotlib.pyplot as plt\n",
    "from datetime import datetime\n",
    "from scipy.stats import pearsonr\n",
    "from sklearn.linear_model import LinearRegression\n",
    "\n",
    "\n",
    "\n"
   ]
  },
  {
   "cell_type": "code",
   "execution_count": null,
   "metadata": {
    "vscode": {
     "languageId": "plaintext"
    }
   },
   "outputs": [],
   "source": [
    "cr = pd.read_excel(\"customer_rating.xlsx\")\n",
    "print(cr.head())\n",
    "\n",
    "# clean code and prepare \n",
    "# convert to date time format\n",
    "cr[\"TIMESTAMP\"] = pd.to_datetime(cr[\"TIMESTAMP\"], unit=\"s\")\n",
    "print(cr[[\"TIMESTAMP\"]].head()) #check\n",
    "print(cr.isnull().sum())\n",
    "\n",
    "cr = cr.dropna() #to double check\n",
    "print(cr.isnull().sum())"
   ]
  },
  {
   "cell_type": "code",
   "execution_count": null,
   "metadata": {
    "vscode": {
     "languageId": "plaintext"
    }
   },
   "outputs": [],
   "source": [
    "\n",
    "cr['ISSUE_RESOLVED_ENUM'] = cr['ISSUE_RESOLVED_ENUM'].replace({ 'Yes - after single contact': 1,\n",
    "    'Yes - after multiple contacts': 1,\n",
    "    'Not resolved': 0})\n",
    "\n",
    "reg_res_rate = cr.groupby('REGION')['ISSUE_RESOLVED_ENUM'].mean().reset_index()\n",
    "top_regions = reg_res_rate.sort_values(by='ISSUE_RESOLVED_ENUM', ascending=False).head(10)\n",
    "regions_sc1 = reg_res_rate[reg_res_rate['ISSUE_RESOLVED_ENUM'] == 1]\n",
    "count_regions_sc1 = len(regions_sc1)\n",
    "print(f\"Number of regions with a resolution success rate of 100%: {count_regions_sc1}\")\n",
    "\n",
    "top_regions = reg_res_rate.sort_values(by='ISSUE_RESOLVED_ENUM', ascending=False).head(1200)\n",
    "cases_regions_sc1 = cr[cr['REGION'].isin(regions_sc1['REGION'])]\n",
    "n_cases_1 = len(cases_regions_sc1)\n",
    "print(f\"N cases in regions with a 100% resolution success rate: {n_cases_1}\")\n",
    "\n",
    "frac_tot_1 = n_cases_1 / len(cr)\n",
    "print(f\"Fraction of cases from regions with a 100% resolution success rate: {frac_tot_1:.2%}\")\n",
    "\n",
    "regions_sc0 = reg_res_rate[reg_res_rate['ISSUE_RESOLVED_ENUM'] == 0]\n",
    "casesregions_sc0 = cr[cr['REGION'].isin(regions_sc0['REGION'])]\n",
    "n_cases_0 = len(casesregions_sc0)\n",
    "print(f\"N cases in regions with a 0% resolution success rate: {n_cases_0}\")\n",
    "\n",
    "frac_total_0 = n_cases_0 / len(cr)\n",
    "print(f\"Fraction of cases from regions with a 0% resolution success rate: {frac_total_0:.2%}\")\n",
    "\n",
    "resolved_cases = cr[cr[\"ISSUE_RESOLVED_ENUM\"] == 1].shape[0]\n",
    "frac_resolved = resolved_cases / len(cr)\n",
    "print(f\"Total fraction of resolved cases: {frac_resolved:.2%}\")\n",
    "\n",
    "avg_res_rate = cr['ISSUE_RESOLVED_ENUM'].mean()\n",
    "print(f\"Average resolution rate: {avg_res_rate:.2%}\")"
   ]
  },
  {
   "cell_type": "code",
   "execution_count": null,
   "metadata": {
    "vscode": {
     "languageId": "plaintext"
    }
   },
   "outputs": [],
   "source": [
    "\n",
    "anz_regions = cr['REGION'].value_counts()\n",
    "u_regions = cr['REGION'].unique()\n",
    "n_regions = len(u_regions)\n",
    "print(f\"Total number of unique regions: {n_regions}\")\n",
    "print(f\"Top 10 regions by count:\\n{anz_regions.head(10)}\")\n",
    "\n",
    "top_regions = anz_regions.head(10).index\n",
    "cr_tregions = cr[cr['REGION'].isin(top_regions)]\n",
    "\n",
    "cr_tregions.loc[:, 'ISSUE_RESOLVED_ENUM'] = cr_tregions['ISSUE_RESOLVED_ENUM'].replace({\n",
    "    'Yes - after single contact': 1,\n",
    "    'Yes - after multiple contacts': 1,\n",
    "    'Not resolved': 0\n",
    "})\n",
    "\n",
    "\n",
    "submission_counts = cr_tregions['REGION'].value_counts().reset_index()\n",
    "submission_counts.columns = ['REGION', 'Submission_Count']\n",
    "\n",
    "region_resolution_rate = cr_tregions.groupby('REGION')['ISSUE_RESOLVED_ENUM'].mean().reset_index()\n",
    "\n",
    "# Step 7: Merge submission counts and resolution rates\n",
    "region_summary = pd.merge(region_resolution_rate, submission_counts, on='REGION')\n",
    "\n",
    "# Step 8: Sort by number of submissions first, then by resolution rate\n",
    "region_summary_sorted = region_summary.sort_values(by=['Submission_Count', 'ISSUE_RESOLVED_ENUM'], ascending=[False, False])\n",
    "# Step 10: Add a percentage resolution rate column\n",
    "region_summary_sorted['Resolution_Rate_%'] = (region_summary_sorted['ISSUE_RESOLVED_ENUM'] * 100).round(2)\n",
    "\n",
    "plt.figure(figsize=(8, 8))\n",
    "bars = plt.barh(\n",
    "    region_summary_sorted['REGION'],\n",
    "    region_summary_sorted['ISSUE_RESOLVED_ENUM'],\n",
    "    color='xkcd:magenta'\n",
    ")\n",
    "plt.xlabel('Resolution Rate')\n",
    "plt.ylabel('Region')\n",
    "plt.title('Resolution Rate in Top 10 Regions by Submission Count')\n",
    "plt.gca().invert_yaxis()  # To display the highest rate at the top\n",
    "# Add percentage and submission count labels on the bars\n",
    "for bar, count in zip(\n",
    "        bars,\n",
    "        region_summary_sorted['Submission_Count']):\n",
    "    plt.text(\n",
    "        bar.get_width() + 0.01,  # Adjust the position slightly to the right of the bar\n",
    "        bar.get_y() + bar.get_height() / 2,  # Center the label vertically\n",
    "        f'{count}',  # Label format: \"(count)\"\n",
    "        va='center',\n",
    "        fontsize=10,\n",
    "        color='black'\n",
    "    )\n",
    "\n",
    "# Show the plot\n",
    "plt.show()\n",
    "\n",
    "plt.show()\n",
    "\n",
    "\n",
    "print(region_summary_sorted)\n"
   ]
  }
 ],
 "metadata": {
  "language_info": {
   "name": "python"
  }
 },
 "nbformat": 4,
 "nbformat_minor": 2
}
