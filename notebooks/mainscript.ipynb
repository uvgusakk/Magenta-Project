{
 "cells": [
  {
   "cell_type": "code",
   "execution_count": 12,
   "metadata": {},
   "outputs": [
    {
     "name": "stdout",
     "output_type": "stream",
     "text": [
      "Collecting contourpy==1.3.0\n",
      "  Downloading contourpy-1.3.0-cp311-cp311-macosx_11_0_arm64.whl (250 kB)\n",
      "\u001b[2K     \u001b[90m━━━━━━━━━━━━━━━━━━━━━━━━━━━━━━━━━━━━━━━\u001b[0m \u001b[32m250.9/250.9 kB\u001b[0m \u001b[31m7.8 MB/s\u001b[0m eta \u001b[36m0:00:00\u001b[0m\n",
      "\u001b[?25hCollecting cycler==0.12.1\n",
      "  Using cached cycler-0.12.1-py3-none-any.whl (8.3 kB)\n",
      "Collecting fonttools==4.55.0\n",
      "  Downloading fonttools-4.55.0-cp311-cp311-macosx_10_9_universal2.whl (2.8 MB)\n",
      "\u001b[2K     \u001b[90m━━━━━━━━━━━━━━━━━━━━━━━━━━━━━━━━━━━━━━━━\u001b[0m \u001b[32m2.8/2.8 MB\u001b[0m \u001b[31m31.1 MB/s\u001b[0m eta \u001b[36m0:00:00\u001b[0m00:01\u001b[0m00:01\u001b[0m\n",
      "\u001b[?25hCollecting importlib_resources==6.4.5\n",
      "  Using cached importlib_resources-6.4.5-py3-none-any.whl (36 kB)\n",
      "Collecting joblib==1.4.2\n",
      "  Using cached joblib-1.4.2-py3-none-any.whl (301 kB)\n",
      "Collecting kiwisolver==1.4.7\n",
      "  Downloading kiwisolver-1.4.7-cp311-cp311-macosx_11_0_arm64.whl (64 kB)\n",
      "\u001b[2K     \u001b[90m━━━━━━━━━━━━━━━━━━━━━━━━━━━━━━━━━━━━━━━━\u001b[0m \u001b[32m64.3/64.3 kB\u001b[0m \u001b[31m8.6 MB/s\u001b[0m eta \u001b[36m0:00:00\u001b[0m\n",
      "\u001b[?25hCollecting matplotlib==3.9.3\n",
      "  Downloading matplotlib-3.9.3-cp311-cp311-macosx_11_0_arm64.whl (7.8 MB)\n",
      "\u001b[2K     \u001b[90m━━━━━━━━━━━━━━━━━━━━━━━━━━━━━━━━━━━━━━━━\u001b[0m \u001b[32m7.8/7.8 MB\u001b[0m \u001b[31m34.6 MB/s\u001b[0m eta \u001b[36m0:00:00\u001b[0ma \u001b[36m0:00:01\u001b[0m\n",
      "\u001b[?25hCollecting numpy==2.0.2\n",
      "  Downloading numpy-2.0.2-cp311-cp311-macosx_14_0_arm64.whl (5.3 MB)\n",
      "\u001b[2K     \u001b[90m━━━━━━━━━━━━━━━━━━━━━━━━━━━━━━━━━━━━━━━━\u001b[0m \u001b[32m5.3/5.3 MB\u001b[0m \u001b[31m35.6 MB/s\u001b[0m eta \u001b[36m0:00:00\u001b[0ma \u001b[36m0:00:01\u001b[0m\n",
      "\u001b[?25hRequirement already satisfied: packaging==24.2 in /Users/ulianahusak/Library/Python/3.11/lib/python/site-packages (from -r requirements.txt (line 9)) (24.2)\n",
      "Collecting pandas==2.2.3\n",
      "  Using cached pandas-2.2.3-cp311-cp311-macosx_11_0_arm64.whl (11.3 MB)\n",
      "Collecting patsy==1.0.1\n",
      "  Using cached patsy-1.0.1-py2.py3-none-any.whl (232 kB)\n",
      "Collecting pillow==11.0.0\n",
      "  Downloading pillow-11.0.0-cp311-cp311-macosx_11_0_arm64.whl (3.0 MB)\n",
      "\u001b[2K     \u001b[90m━━━━━━━━━━━━━━━━━━━━━━━━━━━━━━━━━━━━━━━━\u001b[0m \u001b[32m3.0/3.0 MB\u001b[0m \u001b[31m35.9 MB/s\u001b[0m eta \u001b[36m0:00:00\u001b[0m00:01\u001b[0m00:01\u001b[0m\n",
      "\u001b[?25hCollecting pyparsing==3.2.0\n",
      "  Using cached pyparsing-3.2.0-py3-none-any.whl (106 kB)\n",
      "Requirement already satisfied: python-dateutil==2.9.0.post0 in /Users/ulianahusak/Library/Python/3.11/lib/python/site-packages (from -r requirements.txt (line 14)) (2.9.0.post0)\n",
      "Collecting pytz==2024.2\n",
      "  Using cached pytz-2024.2-py2.py3-none-any.whl (508 kB)\n",
      "Collecting scikit-learn==1.5.2\n",
      "  Downloading scikit_learn-1.5.2-cp311-cp311-macosx_12_0_arm64.whl (11.0 MB)\n",
      "\u001b[2K     \u001b[90m━━━━━━━━━━━━━━━━━━━━━━━━━━━━━━━━━━━━━━━━\u001b[0m \u001b[32m11.0/11.0 MB\u001b[0m \u001b[31m38.4 MB/s\u001b[0m eta \u001b[36m0:00:00\u001b[0m00:01\u001b[0m0:01\u001b[0m\n",
      "\u001b[?25hCollecting scipy==1.13.1\n",
      "  Downloading scipy-1.13.1-cp311-cp311-macosx_12_0_arm64.whl (30.3 MB)\n",
      "\u001b[2K     \u001b[90m━━━━━━━━━━━━━━━━━━━━━━━━━━━━━━━━━━━━━━━━\u001b[0m \u001b[32m30.3/30.3 MB\u001b[0m \u001b[31m34.6 MB/s\u001b[0m eta \u001b[36m0:00:00\u001b[0m00:01\u001b[0m00:01\u001b[0m\n",
      "\u001b[?25hCollecting seaborn==0.13.2\n",
      "  Using cached seaborn-0.13.2-py3-none-any.whl (294 kB)\n",
      "Requirement already satisfied: six==1.16.0 in /Users/ulianahusak/Library/Python/3.11/lib/python/site-packages (from -r requirements.txt (line 19)) (1.16.0)\n",
      "Collecting statsmodels==0.14.4\n",
      "  Downloading statsmodels-0.14.4-cp311-cp311-macosx_11_0_arm64.whl (9.9 MB)\n",
      "\u001b[2K     \u001b[90m━━━━━━━━━━━━━━━━━━━━━━━━━━━━━━━━━━━━━━━━\u001b[0m \u001b[32m9.9/9.9 MB\u001b[0m \u001b[31m35.4 MB/s\u001b[0m eta \u001b[36m0:00:00\u001b[0m00:01\u001b[0m00:01\u001b[0m\n",
      "\u001b[?25hCollecting threadpoolctl==3.5.0\n",
      "  Using cached threadpoolctl-3.5.0-py3-none-any.whl (18 kB)\n",
      "Collecting tzdata==2024.2\n",
      "  Using cached tzdata-2024.2-py2.py3-none-any.whl (346 kB)\n",
      "Collecting zipp==3.21.0\n",
      "  Using cached zipp-3.21.0-py3-none-any.whl (9.6 kB)\n",
      "Installing collected packages: pytz, zipp, tzdata, threadpoolctl, pyparsing, pillow, numpy, kiwisolver, joblib, importlib_resources, fonttools, cycler, scipy, patsy, pandas, contourpy, statsmodels, scikit-learn, matplotlib, seaborn\n",
      "Successfully installed contourpy-1.3.0 cycler-0.12.1 fonttools-4.55.0 importlib_resources-6.4.5 joblib-1.4.2 kiwisolver-1.4.7 matplotlib-3.9.3 numpy-2.0.2 pandas-2.2.3 patsy-1.0.1 pillow-11.0.0 pyparsing-3.2.0 pytz-2024.2 scikit-learn-1.5.2 scipy-1.13.1 seaborn-0.13.2 statsmodels-0.14.4 threadpoolctl-3.5.0 tzdata-2024.2 zipp-3.21.0\n",
      "\n",
      "\u001b[1m[\u001b[0m\u001b[34;49mnotice\u001b[0m\u001b[1;39;49m]\u001b[0m\u001b[39;49m A new release of pip available: \u001b[0m\u001b[31;49m22.3.1\u001b[0m\u001b[39;49m -> \u001b[0m\u001b[32;49m24.3.1\u001b[0m\n",
      "\u001b[1m[\u001b[0m\u001b[34;49mnotice\u001b[0m\u001b[1;39;49m]\u001b[0m\u001b[39;49m To update, run: \u001b[0m\u001b[32;49mpip3 install --upgrade pip\u001b[0m\n",
      "Note: you may need to restart the kernel to use updated packages.\n"
     ]
    }
   ],
   "source": [
    "%pip install -r requirements.txt"
   ]
  },
  {
   "cell_type": "code",
   "execution_count": 13,
   "metadata": {},
   "outputs": [],
   "source": [
    "import pandas as pd\n"
   ]
  },
  {
   "cell_type": "code",
   "execution_count": 16,
   "metadata": {},
   "outputs": [
    {
     "ename": "ImportError",
     "evalue": "Missing optional dependency 'openpyxl'.  Use pip or conda to install openpyxl.",
     "output_type": "error",
     "traceback": [
      "\u001b[0;31m---------------------------------------------------------------------------\u001b[0m",
      "\u001b[0;31mModuleNotFoundError\u001b[0m                       Traceback (most recent call last)",
      "File \u001b[0;32m/Library/Frameworks/Python.framework/Versions/3.11/lib/python3.11/site-packages/pandas/compat/_optional.py:135\u001b[0m, in \u001b[0;36mimport_optional_dependency\u001b[0;34m(name, extra, errors, min_version)\u001b[0m\n\u001b[1;32m    134\u001b[0m \u001b[38;5;28;01mtry\u001b[39;00m:\n\u001b[0;32m--> 135\u001b[0m     module \u001b[38;5;241m=\u001b[39m \u001b[43mimportlib\u001b[49m\u001b[38;5;241;43m.\u001b[39;49m\u001b[43mimport_module\u001b[49m\u001b[43m(\u001b[49m\u001b[43mname\u001b[49m\u001b[43m)\u001b[49m\n\u001b[1;32m    136\u001b[0m \u001b[38;5;28;01mexcept\u001b[39;00m \u001b[38;5;167;01mImportError\u001b[39;00m:\n",
      "File \u001b[0;32m/Library/Frameworks/Python.framework/Versions/3.11/lib/python3.11/importlib/__init__.py:126\u001b[0m, in \u001b[0;36mimport_module\u001b[0;34m(name, package)\u001b[0m\n\u001b[1;32m    125\u001b[0m         level \u001b[38;5;241m+\u001b[39m\u001b[38;5;241m=\u001b[39m \u001b[38;5;241m1\u001b[39m\n\u001b[0;32m--> 126\u001b[0m \u001b[38;5;28;01mreturn\u001b[39;00m \u001b[43m_bootstrap\u001b[49m\u001b[38;5;241;43m.\u001b[39;49m\u001b[43m_gcd_import\u001b[49m\u001b[43m(\u001b[49m\u001b[43mname\u001b[49m\u001b[43m[\u001b[49m\u001b[43mlevel\u001b[49m\u001b[43m:\u001b[49m\u001b[43m]\u001b[49m\u001b[43m,\u001b[49m\u001b[43m \u001b[49m\u001b[43mpackage\u001b[49m\u001b[43m,\u001b[49m\u001b[43m \u001b[49m\u001b[43mlevel\u001b[49m\u001b[43m)\u001b[49m\n",
      "File \u001b[0;32m<frozen importlib._bootstrap>:1206\u001b[0m, in \u001b[0;36m_gcd_import\u001b[0;34m(name, package, level)\u001b[0m\n",
      "File \u001b[0;32m<frozen importlib._bootstrap>:1178\u001b[0m, in \u001b[0;36m_find_and_load\u001b[0;34m(name, import_)\u001b[0m\n",
      "File \u001b[0;32m<frozen importlib._bootstrap>:1142\u001b[0m, in \u001b[0;36m_find_and_load_unlocked\u001b[0;34m(name, import_)\u001b[0m\n",
      "\u001b[0;31mModuleNotFoundError\u001b[0m: No module named 'openpyxl'",
      "\nDuring handling of the above exception, another exception occurred:\n",
      "\u001b[0;31mImportError\u001b[0m                               Traceback (most recent call last)",
      "Cell \u001b[0;32mIn[16], line 1\u001b[0m\n\u001b[0;32m----> 1\u001b[0m cr \u001b[38;5;241m=\u001b[39m \u001b[43mpd\u001b[49m\u001b[38;5;241;43m.\u001b[39;49m\u001b[43mread_excel\u001b[49m\u001b[43m(\u001b[49m\u001b[38;5;124;43m\"\u001b[39;49m\u001b[38;5;124;43mdata/customer_rating.xlsx\u001b[39;49m\u001b[38;5;124;43m\"\u001b[39;49m\u001b[43m)\u001b[49m\n\u001b[1;32m      2\u001b[0m \u001b[38;5;28mprint\u001b[39m(cr\u001b[38;5;241m.\u001b[39mhead())\n\u001b[1;32m      3\u001b[0m \u001b[38;5;28mprint\u001b[39m(cr\u001b[38;5;241m.\u001b[39mshape) \u001b[38;5;66;03m#just some descriptive statistics to check\u001b[39;00m\n",
      "File \u001b[0;32m/Library/Frameworks/Python.framework/Versions/3.11/lib/python3.11/site-packages/pandas/io/excel/_base.py:495\u001b[0m, in \u001b[0;36mread_excel\u001b[0;34m(io, sheet_name, header, names, index_col, usecols, dtype, engine, converters, true_values, false_values, skiprows, nrows, na_values, keep_default_na, na_filter, verbose, parse_dates, date_parser, date_format, thousands, decimal, comment, skipfooter, storage_options, dtype_backend, engine_kwargs)\u001b[0m\n\u001b[1;32m    493\u001b[0m \u001b[38;5;28;01mif\u001b[39;00m \u001b[38;5;129;01mnot\u001b[39;00m \u001b[38;5;28misinstance\u001b[39m(io, ExcelFile):\n\u001b[1;32m    494\u001b[0m     should_close \u001b[38;5;241m=\u001b[39m \u001b[38;5;28;01mTrue\u001b[39;00m\n\u001b[0;32m--> 495\u001b[0m     io \u001b[38;5;241m=\u001b[39m \u001b[43mExcelFile\u001b[49m\u001b[43m(\u001b[49m\n\u001b[1;32m    496\u001b[0m \u001b[43m        \u001b[49m\u001b[43mio\u001b[49m\u001b[43m,\u001b[49m\n\u001b[1;32m    497\u001b[0m \u001b[43m        \u001b[49m\u001b[43mstorage_options\u001b[49m\u001b[38;5;241;43m=\u001b[39;49m\u001b[43mstorage_options\u001b[49m\u001b[43m,\u001b[49m\n\u001b[1;32m    498\u001b[0m \u001b[43m        \u001b[49m\u001b[43mengine\u001b[49m\u001b[38;5;241;43m=\u001b[39;49m\u001b[43mengine\u001b[49m\u001b[43m,\u001b[49m\n\u001b[1;32m    499\u001b[0m \u001b[43m        \u001b[49m\u001b[43mengine_kwargs\u001b[49m\u001b[38;5;241;43m=\u001b[39;49m\u001b[43mengine_kwargs\u001b[49m\u001b[43m,\u001b[49m\n\u001b[1;32m    500\u001b[0m \u001b[43m    \u001b[49m\u001b[43m)\u001b[49m\n\u001b[1;32m    501\u001b[0m \u001b[38;5;28;01melif\u001b[39;00m engine \u001b[38;5;129;01mand\u001b[39;00m engine \u001b[38;5;241m!=\u001b[39m io\u001b[38;5;241m.\u001b[39mengine:\n\u001b[1;32m    502\u001b[0m     \u001b[38;5;28;01mraise\u001b[39;00m \u001b[38;5;167;01mValueError\u001b[39;00m(\n\u001b[1;32m    503\u001b[0m         \u001b[38;5;124m\"\u001b[39m\u001b[38;5;124mEngine should not be specified when passing \u001b[39m\u001b[38;5;124m\"\u001b[39m\n\u001b[1;32m    504\u001b[0m         \u001b[38;5;124m\"\u001b[39m\u001b[38;5;124man ExcelFile - ExcelFile already has the engine set\u001b[39m\u001b[38;5;124m\"\u001b[39m\n\u001b[1;32m    505\u001b[0m     )\n",
      "File \u001b[0;32m/Library/Frameworks/Python.framework/Versions/3.11/lib/python3.11/site-packages/pandas/io/excel/_base.py:1567\u001b[0m, in \u001b[0;36mExcelFile.__init__\u001b[0;34m(self, path_or_buffer, engine, storage_options, engine_kwargs)\u001b[0m\n\u001b[1;32m   1564\u001b[0m \u001b[38;5;28mself\u001b[39m\u001b[38;5;241m.\u001b[39mengine \u001b[38;5;241m=\u001b[39m engine\n\u001b[1;32m   1565\u001b[0m \u001b[38;5;28mself\u001b[39m\u001b[38;5;241m.\u001b[39mstorage_options \u001b[38;5;241m=\u001b[39m storage_options\n\u001b[0;32m-> 1567\u001b[0m \u001b[38;5;28mself\u001b[39m\u001b[38;5;241m.\u001b[39m_reader \u001b[38;5;241m=\u001b[39m \u001b[38;5;28;43mself\u001b[39;49m\u001b[38;5;241;43m.\u001b[39;49m\u001b[43m_engines\u001b[49m\u001b[43m[\u001b[49m\u001b[43mengine\u001b[49m\u001b[43m]\u001b[49m\u001b[43m(\u001b[49m\n\u001b[1;32m   1568\u001b[0m \u001b[43m    \u001b[49m\u001b[38;5;28;43mself\u001b[39;49m\u001b[38;5;241;43m.\u001b[39;49m\u001b[43m_io\u001b[49m\u001b[43m,\u001b[49m\n\u001b[1;32m   1569\u001b[0m \u001b[43m    \u001b[49m\u001b[43mstorage_options\u001b[49m\u001b[38;5;241;43m=\u001b[39;49m\u001b[43mstorage_options\u001b[49m\u001b[43m,\u001b[49m\n\u001b[1;32m   1570\u001b[0m \u001b[43m    \u001b[49m\u001b[43mengine_kwargs\u001b[49m\u001b[38;5;241;43m=\u001b[39;49m\u001b[43mengine_kwargs\u001b[49m\u001b[43m,\u001b[49m\n\u001b[1;32m   1571\u001b[0m \u001b[43m\u001b[49m\u001b[43m)\u001b[49m\n",
      "File \u001b[0;32m/Library/Frameworks/Python.framework/Versions/3.11/lib/python3.11/site-packages/pandas/io/excel/_openpyxl.py:552\u001b[0m, in \u001b[0;36mOpenpyxlReader.__init__\u001b[0;34m(self, filepath_or_buffer, storage_options, engine_kwargs)\u001b[0m\n\u001b[1;32m    534\u001b[0m \u001b[38;5;129m@doc\u001b[39m(storage_options\u001b[38;5;241m=\u001b[39m_shared_docs[\u001b[38;5;124m\"\u001b[39m\u001b[38;5;124mstorage_options\u001b[39m\u001b[38;5;124m\"\u001b[39m])\n\u001b[1;32m    535\u001b[0m \u001b[38;5;28;01mdef\u001b[39;00m \u001b[38;5;21m__init__\u001b[39m(\n\u001b[1;32m    536\u001b[0m     \u001b[38;5;28mself\u001b[39m,\n\u001b[0;32m   (...)\u001b[0m\n\u001b[1;32m    539\u001b[0m     engine_kwargs: \u001b[38;5;28mdict\u001b[39m \u001b[38;5;241m|\u001b[39m \u001b[38;5;28;01mNone\u001b[39;00m \u001b[38;5;241m=\u001b[39m \u001b[38;5;28;01mNone\u001b[39;00m,\n\u001b[1;32m    540\u001b[0m ) \u001b[38;5;241m-\u001b[39m\u001b[38;5;241m>\u001b[39m \u001b[38;5;28;01mNone\u001b[39;00m:\n\u001b[1;32m    541\u001b[0m \u001b[38;5;250m    \u001b[39m\u001b[38;5;124;03m\"\"\"\u001b[39;00m\n\u001b[1;32m    542\u001b[0m \u001b[38;5;124;03m    Reader using openpyxl engine.\u001b[39;00m\n\u001b[1;32m    543\u001b[0m \n\u001b[0;32m   (...)\u001b[0m\n\u001b[1;32m    550\u001b[0m \u001b[38;5;124;03m        Arbitrary keyword arguments passed to excel engine.\u001b[39;00m\n\u001b[1;32m    551\u001b[0m \u001b[38;5;124;03m    \"\"\"\u001b[39;00m\n\u001b[0;32m--> 552\u001b[0m     \u001b[43mimport_optional_dependency\u001b[49m\u001b[43m(\u001b[49m\u001b[38;5;124;43m\"\u001b[39;49m\u001b[38;5;124;43mopenpyxl\u001b[39;49m\u001b[38;5;124;43m\"\u001b[39;49m\u001b[43m)\u001b[49m\n\u001b[1;32m    553\u001b[0m     \u001b[38;5;28msuper\u001b[39m()\u001b[38;5;241m.\u001b[39m\u001b[38;5;21m__init__\u001b[39m(\n\u001b[1;32m    554\u001b[0m         filepath_or_buffer,\n\u001b[1;32m    555\u001b[0m         storage_options\u001b[38;5;241m=\u001b[39mstorage_options,\n\u001b[1;32m    556\u001b[0m         engine_kwargs\u001b[38;5;241m=\u001b[39mengine_kwargs,\n\u001b[1;32m    557\u001b[0m     )\n",
      "File \u001b[0;32m/Library/Frameworks/Python.framework/Versions/3.11/lib/python3.11/site-packages/pandas/compat/_optional.py:138\u001b[0m, in \u001b[0;36mimport_optional_dependency\u001b[0;34m(name, extra, errors, min_version)\u001b[0m\n\u001b[1;32m    136\u001b[0m \u001b[38;5;28;01mexcept\u001b[39;00m \u001b[38;5;167;01mImportError\u001b[39;00m:\n\u001b[1;32m    137\u001b[0m     \u001b[38;5;28;01mif\u001b[39;00m errors \u001b[38;5;241m==\u001b[39m \u001b[38;5;124m\"\u001b[39m\u001b[38;5;124mraise\u001b[39m\u001b[38;5;124m\"\u001b[39m:\n\u001b[0;32m--> 138\u001b[0m         \u001b[38;5;28;01mraise\u001b[39;00m \u001b[38;5;167;01mImportError\u001b[39;00m(msg)\n\u001b[1;32m    139\u001b[0m     \u001b[38;5;28;01mreturn\u001b[39;00m \u001b[38;5;28;01mNone\u001b[39;00m\n\u001b[1;32m    141\u001b[0m \u001b[38;5;66;03m# Handle submodules: if we have submodule, grab parent module from sys.modules\u001b[39;00m\n",
      "\u001b[0;31mImportError\u001b[0m: Missing optional dependency 'openpyxl'.  Use pip or conda to install openpyxl."
     ]
    }
   ],
   "source": [
    "cr = pd.read_excel(\"data/customer_rating.xlsx\")\n",
    "print(cr.head())\n",
    "print(cr.shape) #just some descriptive statistics to check\n",
    "print(cr.info())\n",
    "print(cr.describe())"
   ]
  },
  {
   "cell_type": "code",
   "execution_count": null,
   "metadata": {},
   "outputs": [],
   "source": [
    "import matplotlib.pyplot as plt\n",
    "import seaborn as sns"
   ]
  },
  {
   "cell_type": "code",
   "execution_count": null,
   "metadata": {},
   "outputs": [],
   "source": [
    "ant = cr[\"ISSUE_RESOLVED_ENUM\"].value_counts(normalize=True) * 100\n",
    "\n",
    "colors = sns.color_palette(\"RdPu\", n_colors=len(ant))\n",
    "\n",
    "plt.figure(figsize=(7, 7))\n",
    "plt.pie(ant, labels=ant.index, autopct='%1.1f%%', startangle=90, colors=colors,  textprops={'fontsize': 16})\n",
    "plt.title(\"Distribution of Issue Resolution\", fontsize=16)\n",
    "plt.axis('equal')  # Equal aspect ratio ensures the pie chart is circular.\n",
    "plt.show()\n",
    "\n",
    "# Print the survey details\n",
    "anz_surv = len(cr)\n",
    "avg_score = cr[\"CUSTOMER_SCORE\"].mean()\n",
    "\n",
    "print(f\"Average Customer Score: {avg_score:.2f}\")"
   ]
  },
  {
   "cell_type": "markdown",
   "metadata": {},
   "source": [
    "avg customer score per survey type"
   ]
  },
  {
   "cell_type": "code",
   "execution_count": 14,
   "metadata": {},
   "outputs": [
    {
     "ename": "NameError",
     "evalue": "name 'cr' is not defined",
     "output_type": "error",
     "traceback": [
      "\u001b[0;31m---------------------------------------------------------------------------\u001b[0m",
      "\u001b[0;31mNameError\u001b[0m                                 Traceback (most recent call last)",
      "Cell \u001b[0;32mIn[14], line 1\u001b[0m\n\u001b[0;32m----> 1\u001b[0m survey_avg \u001b[38;5;241m=\u001b[39m \u001b[43mcr\u001b[49m\u001b[38;5;241m.\u001b[39mgroupby(\u001b[38;5;124m\"\u001b[39m\u001b[38;5;124mSURVEY_TYPE\u001b[39m\u001b[38;5;124m\"\u001b[39m)[\u001b[38;5;124m\"\u001b[39m\u001b[38;5;124mCUSTOMER_SCORE\u001b[39m\u001b[38;5;124m\"\u001b[39m]\u001b[38;5;241m.\u001b[39mmean()\n\u001b[1;32m      4\u001b[0m \u001b[38;5;28mprint\u001b[39m(survey_avg)\n\u001b[1;32m      6\u001b[0m survey_avg \u001b[38;5;241m=\u001b[39m cr\u001b[38;5;241m.\u001b[39mgroupby(\u001b[38;5;124m\"\u001b[39m\u001b[38;5;124mSURVEY_TYPE\u001b[39m\u001b[38;5;124m\"\u001b[39m)[\u001b[38;5;124m\"\u001b[39m\u001b[38;5;124mCUSTOMER_SCORE\u001b[39m\u001b[38;5;124m\"\u001b[39m]\u001b[38;5;241m.\u001b[39mmean()\n",
      "\u001b[0;31mNameError\u001b[0m: name 'cr' is not defined"
     ]
    }
   ],
   "source": [
    "survey_avg = cr.groupby(\"SURVEY_TYPE\")[\"CUSTOMER_SCORE\"].mean()\n",
    "\n",
    "\n",
    "print(survey_avg)\n",
    "\n",
    "survey_avg = cr.groupby(\"SURVEY_TYPE\")[\"CUSTOMER_SCORE\"].mean()\n",
    "\n",
    "survey_count = cr.groupby(\"SURVEY_TYPE\")[\"CUSTOMER_SCORE\"].size()\n",
    "\n",
    "survey_summary = pd.DataFrame({\n",
    "    \"Average Customer Score\": survey_avg,\n",
    "    \"Count\": survey_count\n",
    "})\n",
    "\n",
    "print(survey_summary)\n"
   ]
  },
  {
   "cell_type": "markdown",
   "metadata": {},
   "source": [
    "highest score"
   ]
  },
  {
   "cell_type": "code",
   "execution_count": null,
   "metadata": {},
   "outputs": [],
   "source": [
    "cr['TIMESTAMP'] = cr['TIMESTAMP'].dt.date\n",
    "date_sc = cr.groupby('TIMESTAMP')['CUSTOMER_SCORE'].mean() #we get the time and we do not need it\n",
    "\n",
    "\n",
    "# Find the date with the highest average score\n",
    "max_date = date_sc.idxmax() \n",
    "max_value = date_sc.max()\n",
    "\n",
    "# Find the date with the lowest average score\n",
    "min_date = date_sc.idxmin()\n",
    "min_value = date_sc.min()\n",
    "\n",
    "# Display the results\n",
    "print(f\"Highest Average Score: {max_value:.2f} on {max_date}\")\n",
    "print(f\"Lowest Average Score: {min_value:.2f} on {min_date}\")"
   ]
  },
  {
   "cell_type": "markdown",
   "metadata": {},
   "source": [
    "most submissions"
   ]
  },
  {
   "cell_type": "code",
   "execution_count": null,
   "metadata": {},
   "outputs": [],
   "source": [
    "\n",
    "cr[\"TIMESTAMP\"] = pd.to_datetime(cr[\"TIMESTAMP\"]).dt.date  \n",
    "\n",
    "cr[\"Weekday\"] = pd.to_datetime(cr[\"TIMESTAMP\"]).dt.weekday\n",
    "\n",
    "week_counts = cr[\"Weekday\"].value_counts().sort_index()\n",
    "\n",
    "\n",
    "week_names = {1: 'Monday', 2: 'Tuesday', 3: 'Wednesday', 4: 'Thursday', 5: 'Friday', 6: 'Saturday', 7: 'Sunday'}\n",
    "week_counts.index = week_counts.index.map(week_names)\n",
    "\n",
    "# Step 4: Find the weekday with the highest number of submissions\n",
    "most_weekday = week_counts.idxmax()\n",
    "most_count = week_counts.max()\n",
    "total_s = len(cr)\n",
    "fraction = most_count / total_s\n",
    "\n",
    "print(f\"The weekday {mostweekday} with {mostcount}\")\n",
    "print(f\"The fraction{most_weekday}: {fraction:.4f}\")"
   ]
  },
  {
   "cell_type": "markdown",
   "metadata": {},
   "source": [
    "# average products owned per customer score"
   ]
  },
  {
   "cell_type": "code",
   "execution_count": null,
   "metadata": {},
   "outputs": [],
   "source": [
    "product_columns = [col for col in cr.columns if col.endswith(\"YN\")]\n",
    "product_columns"
   ]
  },
  {
   "cell_type": "code",
   "execution_count": null,
   "metadata": {},
   "outputs": [],
   "source": [
    "melted = cr.melt(\n",
    "    id_vars=[\"CUSTOMER_SCORE\"],  \n",
    "    value_vars=product_columns,  \n",
    "    var_name=\"Product_Type\",     \n",
    "    value_name=\"Has_Product\"  \n",
    ")\n",
    "\n",
    "filtered = melted[melted[\"Has_Product\"] == \"Yes\"]\n",
    "filtered\n",
    "result = (\n",
    "    filtered.groupby(\"Product_Type\")[\"CUSTOMER_SCORE\"]\n",
    "    .mean()\n",
    "    .reset_index()\n",
    "    .rename(columns={\"CUSTOMER_SCORE\": \"Average_Score\"})\n",
    ")\n",
    "\n",
    "print(result)"
   ]
  },
  {
   "cell_type": "code",
   "execution_count": null,
   "metadata": {},
   "outputs": [],
   "source": [
    "\n",
    "cr[product_columns] = cr[product_columns].replace({'Yes': 1, 'No': 0})\n",
    "cr['TOTAL_PRODUCTS'] = cr[product_columns].sum(axis=1)"
   ]
  },
  {
   "cell_type": "code",
   "execution_count": null,
   "metadata": {},
   "outputs": [],
   "source": [
    "avg_p_score = cr.groupby(\"CUSTOMER_SCORE\")['TOTAL_PRODUCTS'].mean().reset_index()\n",
    "print(avg_p_score)"
   ]
  },
  {
   "cell_type": "code",
   "execution_count": null,
   "metadata": {},
   "outputs": [],
   "source": [
    "import matplotlib.pyplot as plt\n",
    "import seaborn as sns\n",
    "\n",
    "plt.figure(figsize=(8, 6))\n",
    "sns.barplot(data=avg_p_score, x=\"CUSTOMER_SCORE\", y='TOTAL_PRODUCTS', palette='RdPu')\n",
    "plt.title(\"Average Total Products Owned per Customer Score\")\n",
    "plt.xlabel(\"Customer Score\")\n",
    "plt.ylabel(\"Average Total Products Owned\")\n",
    "plt.show()\n",
    "overall_avg_products = cr['TOTAL_PRODUCTS'].mean()\n",
    "print(f\" avg Products Owned: {overall_avg_products:.2f}\")\n"
   ]
  },
  {
   "cell_type": "markdown",
   "metadata": {},
   "source": [
    "## customer score distributions based on the number of products owned"
   ]
  },
  {
   "cell_type": "code",
   "execution_count": null,
   "metadata": {},
   "outputs": [],
   "source": [
    "plt.figure(figsize=(10, 6))\n",
    "\n",
    "sns.histplot(data=cr, x='CUSTOMER_SCORE', hue='TOTAL_PRODUCTS', multiple=\"stack\", palette='RdPu')\n",
    "\n",
    "plt.title(\"Distribution of Customer Scores Based on Products Owned\", fontsize=14)\n",
    "plt.xlabel(\"Customer Score\", fontsize=12)\n",
    "plt.ylabel(\"Frequency\", fontsize=12)\n",
    "\n",
    "plt.show()\n"
   ]
  },
  {
   "cell_type": "markdown",
   "metadata": {},
   "source": [
    "### number of submissions on various dates"
   ]
  },
  {
   "cell_type": "code",
   "execution_count": null,
   "metadata": {},
   "outputs": [],
   "source": [
    "\n",
    "# Count the number of submissions per date\n",
    "submission_c = cr['TIMESTAMP'].value_counts().sort_index()\n",
    "# Count the number of submissions per date\n",
    "\n",
    "# Day with the most surveys submitted\n",
    "most_submitted_day = submission_c.idxmax()\n",
    "most_submitted_count = submission_c.max()\n",
    "\n",
    "# Day with the least surveys submitted\n",
    "least_submitted_day = submission_c.idxmin()\n",
    "least_submitted_count = submission_c.min()\n",
    "\n",
    "# Output the results\n",
    "print(f\"The most surveys: {most_submitted_day}, {most_submitted_count}\")\n",
    "print(f\"The least surveys: {least_submitted_day}, {least_submitted_count}\")\n",
    "\n",
    "\n",
    "\n"
   ]
  },
  {
   "cell_type": "markdown",
   "metadata": {},
   "source": [
    "## plot"
   ]
  },
  {
   "cell_type": "code",
   "execution_count": null,
   "metadata": {},
   "outputs": [],
   "source": [
    "#  peak submission dates\n",
    "plt.figure(figsize=(12, 6))\n",
    "plt.plot(submission_counts.index, submission_counts.values, marker='o', linestyle='-', color='mediumvioletred', markerfacecolor='black')\n",
    "plt.title(\"Peak Survey Submission Dates\", fontsize=16)\n",
    "plt.xlabel(\"Date\", fontsize=14)\n",
    "plt.ylabel(\"Number of Submissions\", fontsize=14)\n",
    "plt.xticks(rotation=45)\n",
    "plt.grid(True, linestyle='--', alpha=0.5)\n",
    "\n",
    "plt.annotate(f\"Most: {most_submitted_count}\", #KI assitance\n",
    "             xy=(most_submitted_day, most_submitted_count), \n",
    "             xytext=(most_submitted_day, most_submitted_count + 100),  \n",
    "             arrowprops=dict(facecolor='black', arrowstyle=\"->\"),\n",
    "             fontsize=12, color='black')\n",
    "\n",
    "\n",
    "plt.annotate(f\"Least: {least_submitted_count}\", \n",
    "             xy=(least_submitted_day, least_submitted_count), \n",
    "             xytext=(least_submitted_day, least_submitted_count + 100), \n",
    "             arrowprops=dict(facecolor='black', arrowstyle=\"->\"),\n",
    "             fontsize=12, color='black')\n",
    "\n",
    "plt.tight_layout()\n",
    "plt.show()\n"
   ]
  },
  {
   "cell_type": "markdown",
   "metadata": {},
   "source": [
    "## anova test among survey types"
   ]
  },
  {
   "cell_type": "code",
   "execution_count": null,
   "metadata": {},
   "outputs": [],
   "source": [
    "from scipy.stats import f_oneway\n",
    "\n",
    "# Group \n",
    "survey_groups = [cr[cr['SURVEY_TYPE'] == survey_type]['CUSTOMER_SCORE'].dropna() for survey_type in cr['SURVEY_TYPE'].unique()]\n",
    "\n",
    "# Perform ANOVA test\n",
    "anova_result = f_oneway(*survey_groups)\n",
    "\n",
    "print(\"ANOVA Test Results for Survey Type:\")\n",
    "print(f\"F-statistic: {anova_result.statistic:.4f}\")\n",
    "print(f\"P-value: {anova_result.pvalue:.4f}\")\n",
    "\n",
    "# Interpret results\n",
    "if anova_result.pvalue < 0.05:\n",
    "    print(\"There is significant difference in CUSTOMER_SCORE \")\n",
    "else:\n",
    "    print(\"No significant difference in CUSTOMER_SCORE\")\n"
   ]
  },
  {
   "cell_type": "markdown",
   "metadata": {},
   "source": [
    "## histogram for CUSTOMER_SCORE"
   ]
  },
  {
   "cell_type": "code",
   "execution_count": null,
   "metadata": {},
   "outputs": [],
   "source": [
    "\n",
    "plt.figure(figsize=(10, 6))\n",
    "sns.histplot(cr['CUSTOMER_SCORE'], bins=11, color='xkcd:magenta')\n",
    "plt.title('Distribution of Customer Scores')\n",
    "plt.xlabel('Customer Score')\n",
    "plt.ylabel('Frequency')\n",
    "plt.tight_layout()\n",
    "plt.show()\n"
   ]
  },
  {
   "cell_type": "markdown",
   "metadata": {},
   "source": [
    "### top regions"
   ]
  },
  {
   "cell_type": "code",
   "execution_count": null,
   "metadata": {},
   "outputs": [],
   "source": [
    "\n",
    "cr['REGION'] = cr['REGION'].str.title() #to make unified format\n",
    "cr = cr.dropna()\n",
    "# Check the regions after standardization\n",
    "anz_regions = cr[\"REGION\"].value_counts()\n",
    "u_regions = cr[\"REGION\"].unique()\n",
    "n_regions = len(u_regions)\n",
    "n_regions\n",
    "top_regions = anz_regions.head(10).index\n",
    "\n",
    "top_counts = anz_regions.loc[top_regions]\n",
    "top_perc = (top_counts / anz_regions.sum()) * 100  \n",
    "\n",
    "top_summary = pd.DataFrame({\n",
    "    'Submission Count': top_counts,\n",
    "    'Percentage': top_perc\n",
    "})\n",
    "\n",
    "print(top_region_summary)\n",
    "\n"
   ]
  },
  {
   "cell_type": "markdown",
   "metadata": {},
   "source": [
    "# anova test"
   ]
  },
  {
   "cell_type": "code",
   "execution_count": null,
   "metadata": {},
   "outputs": [],
   "source": [
    "from scipy.stats import f_oneway\n",
    "\n",
    "#  we group CUSTOMER_SCORE data by the top regions selected \n",
    "region_gr = [cr_tregions[cr_tregions[\"REGION\"] == region][\"CUSTOMER_SCORE\"] for region in top_regions]\n",
    "\n",
    "# as a next step we are ready to perform the anova test\n",
    "anova_regions = f_oneway(*region_gr)\n",
    "\n",
    "print(\"ANOVA in Top Regions:\")\n",
    "print(f\"F-statistic: {anova_regions.statistic:.4f}\")\n",
    "print(f\"P-value: {anova_regions.pvalue:.4f}\")\n",
    "\n",
    "#interpretation \n",
    "if anova_regions.pvalue < 0.05:\n",
    "    print(\"Significant difference in CUSTOMER_SCORE in top regions.\")\n",
    "else:\n",
    "    print(\"No significant difference in CUSTOMER_SCORE in top regions.\")\n"
   ]
  },
  {
   "cell_type": "markdown",
   "metadata": {},
   "source": [
    "## box plot"
   ]
  },
  {
   "cell_type": "code",
   "execution_count": null,
   "metadata": {},
   "outputs": [],
   "source": [
    "## As a next step, we are plotting the results of a test\n",
    "# added later # ordered the regions by size \n",
    "region_ordered = cr_tregions[\"REGION\"].value_counts(ascending = True).index\n",
    "\n",
    "# box plot with the ordered regions\n",
    "plt.figure(figsize = (12, 6))\n",
    "sns.boxplot(\n",
    "    data = cr_tregions, \n",
    "    x = \"REGION\", \n",
    "    y = \"CUSTOMER_SCORE\", \n",
    "    order = region_ordered,  \n",
    "    palette = \"RdPu\"\n",
    ")\n",
    "plt.title(\"Customer Score Distribution in Top 10 Regions\", fontsize = 16)\n",
    "plt.xlabel(\"Region\", fontsize = 12)\n",
    "plt.ylabel(\"Customer Score\", fontsize = 12)\n",
    "plt.xticks(rotation = 45)\n",
    "plt.tight_layout()\n",
    "plt.show()\n"
   ]
  },
  {
   "cell_type": "markdown",
   "metadata": {},
   "source": [
    "## survey types by region"
   ]
  },
  {
   "cell_type": "code",
   "execution_count": null,
   "metadata": {},
   "outputs": [],
   "source": [
    "\n",
    "#analyze survey types by region\n",
    "survey_dist = (\n",
    "    cr_tregions.groupby([\"REGION\", \"SURVEY_TYPE\"])\n",
    "    .size()  # Count occurrences\n",
    "    .unstack(fill_value = 0)  # we create a matrix\n",
    ")\n",
    "# sort by total surveys submitted\n",
    "survey_dist[\"TOTAL\"] = survey_dist.sum(axis = 1)\n",
    "survey_dist = survey_dist.sort_values(\"TOTAL\", ascending = True).drop(columns = \"TOTAL\")\n",
    "\n",
    "\n",
    "#plot bar chart\n",
    "survey_dist.plot(\n",
    "    kind = 'barh',\n",
    "    stacked = True,\n",
    "    figsize = (12, 6),\n",
    "    colormap = \"PuRd\",\n",
    "    width = 0.9,\n",
    "    title = \"Survey Type Distribution in Top 10 Selected Regions\"\n",
    ")\n",
    "\n",
    "plt.ylabel(\"Number of Surveys\")\n",
    "plt.xlabel(\"Regions\")\n",
    "plt.legend(title = \"Survey Type\", bbox_to_anchor = (1.05, 1), loc = \"upper left\")\n",
    "plt.tight_layout()\n",
    "plt.show()\n"
   ]
  }
 ],
 "metadata": {
  "kernelspec": {
   "display_name": "Python 3",
   "language": "python",
   "name": "python3"
  },
  "language_info": {
   "codemirror_mode": {
    "name": "ipython",
    "version": 3
   },
   "file_extension": ".py",
   "mimetype": "text/x-python",
   "name": "python",
   "nbconvert_exporter": "python",
   "pygments_lexer": "ipython3",
   "version": "3.11.1"
  }
 },
 "nbformat": 4,
 "nbformat_minor": 2
}
